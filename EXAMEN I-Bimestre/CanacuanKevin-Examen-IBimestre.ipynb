{
 "cells": [
  {
   "cell_type": "code",
   "execution_count": 4,
   "metadata": {},
   "outputs": [
    {
     "name": "stdout",
     "output_type": "stream",
     "text": [
      "2) Crear un vector de ceros de tamaño 10\n"
     ]
    },
    {
     "data": {
      "text/plain": [
       "array([0., 0., 0., 0., 0., 0., 0., 0., 0., 0.])"
      ]
     },
     "execution_count": 4,
     "metadata": {},
     "output_type": "execute_result"
    }
   ],
   "source": [
    "import numpy as np\n",
    "\n",
    "print('2) Crear un vector de ceros de tamaño 10')\n",
    "vector_ceros_10= np.zeros(10)\n",
    "vector_ceros_10"
   ]
  },
  {
   "cell_type": "code",
   "execution_count": 5,
   "metadata": {},
   "outputs": [
    {
     "name": "stdout",
     "output_type": "stream",
     "text": [
      "3) Crear un vector de ceros de tamaño 10 y el de la posicion 5 sea igual a 1\n"
     ]
    },
    {
     "data": {
      "text/plain": [
       "array([0., 0., 0., 0., 0., 1., 0., 0., 0., 0.])"
      ]
     },
     "execution_count": 5,
     "metadata": {},
     "output_type": "execute_result"
    }
   ],
   "source": [
    "print('3) Crear un vector de ceros de tamaño 10 y el de la posicion 5 sea igual a 1')\n",
    "vector_ceros_10_5_1= np.zeros(10)\n",
    "vector_ceros_10_5_1[5] =1\n",
    "vector_ceros_10_5_1"
   ]
  },
  {
   "cell_type": "code",
   "execution_count": 7,
   "metadata": {},
   "outputs": [
    {
     "name": "stdout",
     "output_type": "stream",
     "text": [
      "3) Cambiar el orden de un vector de 50 elementos, el de la posicion 1 es el de la 50 etc.\n"
     ]
    },
    {
     "data": {
      "text/plain": [
       "array([50, 49, 48, 47, 46, 45, 44, 43, 42, 41, 40, 39, 38, 37, 36, 35, 34,\n",
       "       33, 32, 31, 30, 29, 28, 27, 26, 25, 24, 23, 22, 21, 20, 19, 18, 17,\n",
       "       16, 15, 14, 13, 12, 11, 10,  9,  8,  7,  6,  5,  4,  3,  2,  1])"
      ]
     },
     "execution_count": 7,
     "metadata": {},
     "output_type": "execute_result"
    }
   ],
   "source": [
    "print('4) Cambiar el orden de un vector de 50 elementos, el de la posicion 1 es el de la 50 etc.')\n",
    "vector_50_cambiar_orden = np.arange(50,0,-1)\n",
    "vector_50_cambiar_orden"
   ]
  },
  {
   "cell_type": "code",
   "execution_count": 8,
   "metadata": {},
   "outputs": [
    {
     "name": "stdout",
     "output_type": "stream",
     "text": [
      "5) Crear una matriz de 3x3 con valores del cero al 8\n"
     ]
    },
    {
     "data": {
      "text/plain": [
       "array([[0, 1, 2],\n",
       "       [3, 4, 5],\n",
       "       [6, 7, 8]])"
      ]
     },
     "execution_count": 8,
     "metadata": {},
     "output_type": "execute_result"
    }
   ],
   "source": [
    "print('5) Crear una matriz de 3x3 con valores del cero al 8')\n",
    "matriz_0_8 = np.arange(0,9).reshape(3,3)\n",
    "matriz_0_8"
   ]
  },
  {
   "cell_type": "code",
   "execution_count": 9,
   "metadata": {},
   "outputs": [
    {
     "name": "stdout",
     "output_type": "stream",
     "text": [
      "6) Encontrar los indices que no sean cero en un arreglo\n",
      "[0 1 4]\n"
     ]
    }
   ],
   "source": [
    "print('6) Encontrar los indices que no sean cero en un arreglo')\n",
    "arreglo = [1,2,0,0,4,0]\n",
    "arreglo = np.nonzero(arreglo)\n",
    "print(arreglo[0])"
   ]
  },
  {
   "cell_type": "code",
   "execution_count": 13,
   "metadata": {},
   "outputs": [
    {
     "name": "stdout",
     "output_type": "stream",
     "text": [
      "7) Crear una matriz de identidad 3 x 3\n"
     ]
    },
    {
     "data": {
      "text/plain": [
       "array([[1., 0., 0.],\n",
       "       [0., 1., 0.],\n",
       "       [0., 0., 1.]])"
      ]
     },
     "execution_count": 13,
     "metadata": {},
     "output_type": "execute_result"
    }
   ],
   "source": [
    "print('7) Crear una matriz de identidad 3 x 3')\n",
    "matriz_identidad_3_por_3 = np.identity(3)\n",
    "matriz_identidad_3_por_3"
   ]
  },
  {
   "cell_type": "code",
   "execution_count": 14,
   "metadata": {},
   "outputs": [
    {
     "name": "stdout",
     "output_type": "stream",
     "text": [
      "8) Crear una matriz 3 x 3 x 3 con valores randomicos\n"
     ]
    },
    {
     "data": {
      "text/plain": [
       "array([[[0.20628016, 0.91759061, 0.03682243],\n",
       "        [0.43780386, 0.99556966, 0.17236666],\n",
       "        [0.82275861, 0.8601024 , 0.6842558 ]],\n",
       "\n",
       "       [[0.23629331, 0.24924825, 0.24521334],\n",
       "        [0.79098068, 0.4537378 , 0.03542912],\n",
       "        [0.66783428, 0.28267245, 0.79614307]],\n",
       "\n",
       "       [[0.79954002, 0.36147424, 0.33427965],\n",
       "        [0.0589913 , 0.08567094, 0.9963727 ],\n",
       "        [0.10702067, 0.25493002, 0.79007452]]])"
      ]
     },
     "execution_count": 14,
     "metadata": {},
     "output_type": "execute_result"
    }
   ],
   "source": [
    "print('8) Crear una matriz 3 x 3 x 3 con valores randomicos')\n",
    "matriz_random_3_por_3_por_3 = np.random.rand(3,3,3)\n",
    "matriz_random_3_por_3_por_3"
   ]
  },
  {
   "cell_type": "code",
   "execution_count": 15,
   "metadata": {},
   "outputs": [
    {
     "name": "stdout",
     "output_type": "stream",
     "text": [
      "9) Crear una matriz 10 x 10 y encontrar el mayor y el menor\n",
      "Mayor valor: 0.9993040120771889\n",
      "Menor valor: 0.031144253478831763\n"
     ]
    }
   ],
   "source": [
    "print('9) Crear una matriz 10 x 10 y encontrar el mayor y el menor')\n",
    "matriz_10_por_10 = np.random.rand(10,10)\n",
    "matriz_10_por_10\n",
    "print(f'Mayor valor: {matriz_10_por_10.max()}')\n",
    "print(f'Menor valor: {matriz_10_por_10.min()}')"
   ]
  },
  {
   "cell_type": "code",
   "execution_count": 20,
   "metadata": {},
   "outputs": [
    {
     "name": "stdout",
     "output_type": "stream",
     "text": [
      "10) Sacar los colores RGB unicos en una imagen (cuales rgb existen ej: 0, 0, 0 - 255,255,255 -> 2 colores)\n"
     ]
    },
    {
     "data": {
      "image/png": "[encoded data removed]",
      "text/plain": [
       "<Figure size 432x288 with 1 Axes>"
      ]
     },
     "metadata": {
      "needs_background": "light"
     },
     "output_type": "display_data"
    }
   ],
   "source": [
    "from skimage import data\n",
    "import matplotlib.pyplot as plt\n",
    "\n",
    "print('10) Sacar los colores RGB unicos en una imagen (cuales rgb existen ej: 0, 0, 0 - 255,255,255 -> 2 colores)')\n",
    "\n",
    "camara = data.camera()\n",
    "plt.imshow(camara)\n",
    "plt.show(block=True)\n",
    "plt.interactive(False)"
   ]
  },
  {
   "cell_type": "code",
   "execution_count": 22,
   "metadata": {},
   "outputs": [
    {
     "name": "stdout",
     "output_type": "stream",
     "text": [
      "11) ¿Como crear una serie de una lista, diccionario o arreglo?\n",
      "Serie a partir de una Lista\n"
     ]
    },
    {
     "data": {
      "text/plain": [
       "0     a\n",
       "1     b\n",
       "2     c\n",
       "3     e\n",
       "4     d\n",
       "5     f\n",
       "6     g\n",
       "7     h\n",
       "8     i\n",
       "9     j\n",
       "10    k\n",
       "11    l\n",
       "12    m\n",
       "13    n\n",
       "14    o\n",
       "15    p\n",
       "16    q\n",
       "17    r\n",
       "18    s\n",
       "19    t\n",
       "20    u\n",
       "21    v\n",
       "22    w\n",
       "23    x\n",
       "24    y\n",
       "25    z\n",
       "dtype: object"
      ]
     },
     "execution_count": 22,
     "metadata": {},
     "output_type": "execute_result"
    }
   ],
   "source": [
    "import pandas as pd\n",
    "\n",
    "print('11) ¿Como crear una serie de una lista, diccionario o arreglo?')\n",
    "mylist = list('abcedfghijklmnopqrstuvwxyz')\n",
    "myarr = np.arange(26)\n",
    "mydict = dict(zip(mylist, myarr))\n",
    "\n",
    "print('Serie a partir de una Lista')\n",
    "serie_lista = pd.Series(mylist)\n",
    "serie_lista"
   ]
  },
  {
   "cell_type": "code",
   "execution_count": 23,
   "metadata": {},
   "outputs": [
    {
     "name": "stdout",
     "output_type": "stream",
     "text": [
      "Seire a partir de un Diccionario\n"
     ]
    },
    {
     "data": {
      "text/plain": [
       "a     0\n",
       "b     1\n",
       "c     2\n",
       "e     3\n",
       "d     4\n",
       "f     5\n",
       "g     6\n",
       "h     7\n",
       "i     8\n",
       "j     9\n",
       "k    10\n",
       "l    11\n",
       "m    12\n",
       "n    13\n",
       "o    14\n",
       "p    15\n",
       "q    16\n",
       "r    17\n",
       "s    18\n",
       "t    19\n",
       "u    20\n",
       "v    21\n",
       "w    22\n",
       "x    23\n",
       "y    24\n",
       "z    25\n",
       "dtype: int64"
      ]
     },
     "execution_count": 23,
     "metadata": {},
     "output_type": "execute_result"
    }
   ],
   "source": [
    "print('Seire a partir de un Diccionario')\n",
    "serie_diccionario = pd.Series(mydict)\n",
    "serie_diccionario"
   ]
  },
  {
   "cell_type": "code",
   "execution_count": 24,
   "metadata": {},
   "outputs": [
    {
     "name": "stdout",
     "output_type": "stream",
     "text": [
      "Serie a partir de un Arreglo\n"
     ]
    },
    {
     "data": {
      "text/plain": [
       "0      0\n",
       "1      1\n",
       "2      2\n",
       "3      3\n",
       "4      4\n",
       "5      5\n",
       "6      6\n",
       "7      7\n",
       "8      8\n",
       "9      9\n",
       "10    10\n",
       "11    11\n",
       "12    12\n",
       "13    13\n",
       "14    14\n",
       "15    15\n",
       "16    16\n",
       "17    17\n",
       "18    18\n",
       "19    19\n",
       "20    20\n",
       "21    21\n",
       "22    22\n",
       "23    23\n",
       "24    24\n",
       "25    25\n",
       "dtype: int32"
      ]
     },
     "execution_count": 24,
     "metadata": {},
     "output_type": "execute_result"
    }
   ],
   "source": [
    "print('Serie a partir de un Arreglo')\n",
    "serie_arreglo = pd.Series(myarr)\n",
    "serie_arreglo"
   ]
  },
  {
   "cell_type": "code",
   "execution_count": 26,
   "metadata": {},
   "outputs": [
    {
     "name": "stdout",
     "output_type": "stream",
     "text": [
      "12) ¿Como convertir el indice de una serie en una columna de un DataFrame?\n",
      "Serie\n",
      "a     0\n",
      "b     1\n",
      "c     2\n",
      "e     3\n",
      "d     4\n",
      "f     5\n",
      "g     6\n",
      "h     7\n",
      "i     8\n",
      "j     9\n",
      "k    10\n",
      "l    11\n",
      "m    12\n",
      "n    13\n",
      "o    14\n",
      "p    15\n",
      "q    16\n",
      "r    17\n",
      "s    18\n",
      "t    19\n",
      "u    20\n",
      "v    21\n",
      "w    22\n",
      "x    23\n",
      "y    24\n",
      "z    25\n",
      "dtype: int64\n",
      "\n",
      "Dataframe\n",
      "    0\n",
      "0   a\n",
      "1   b\n",
      "2   c\n",
      "3   e\n",
      "4   d\n",
      "5   f\n",
      "6   g\n",
      "7   h\n",
      "8   i\n",
      "9   j\n",
      "10  k\n",
      "11  l\n",
      "12  m\n",
      "13  n\n",
      "14  o\n",
      "15  p\n",
      "16  q\n",
      "17  r\n",
      "18  s\n",
      "19  t\n",
      "20  u\n",
      "21  v\n",
      "22  w\n",
      "23  x\n",
      "24  y\n",
      "25  z\n"
     ]
    }
   ],
   "source": [
    "print('12) ¿Como convertir el indice de una serie en una columna de un DataFrame?')\n",
    "mylist = list('abcedfghijklmnopqrstuvwxyz')\n",
    "myarr = np.arange(26)\n",
    "mydict = dict(zip(mylist, myarr))\n",
    "ser = pd.Series(mydict) \n",
    "\n",
    "print('Serie')\n",
    "print(ser)\n",
    "\n",
    "print('\\nDataframe')\n",
    "df = pd.DataFrame(ser.index)\n",
    "print(df)"
   ]
  },
  {
   "cell_type": "code",
   "execution_count": 27,
   "metadata": {},
   "outputs": [
    {
     "name": "stdout",
     "output_type": "stream",
     "text": [
      "13) ¿Como combinar varias series para hacer un DataFrame?\n",
      "  0  1  2  3  4  5  6  7  8  9   ...  16  17  18  19  20  21  22  23  24  25\n",
      "0  a  b  c  e  d  f  g  h  i  j  ...   q   r   s   t   u   v   w   x   y   z\n",
      "1  0  1  2  3  4  5  6  7  8  9  ...  16  17  18  19  20  21  22  23  24  25\n",
      "\n",
      "[2 rows x 26 columns]\n"
     ]
    }
   ],
   "source": [
    "print('13) ¿Como combinar varias series para hacer un DataFrame?')\n",
    "ser1 = pd.Series(list('abcedfghijklmnopqrstuvwxyz'))\n",
    "ser2 = pd.Series(np.arange(26))\n",
    "\n",
    "combinar_series = pd.DataFrame([ser1,ser2])\n",
    "print(combinar_series)"
   ]
  },
  {
   "cell_type": "code",
   "execution_count": 60,
   "metadata": {},
   "outputs": [
    {
     "name": "stdout",
     "output_type": "stream",
     "text": [
      "14) ¿Como obtener los items que esten en una serie A y no en una serie B?\n",
      "15) ¿Como obtener los items que no son comunes en una serie A y serie B?\n"
     ]
    }
   ],
   "source": [
    "print('14) ¿Como obtener los items que esten en una serie A y no en una serie B?')\n",
    "ser1 = pd.Series([1, 2, 3, 4, 5])\n",
    "ser2 = pd.Series([4, 5, 6, 7, 8])\n",
    "items_serie_a = []\n",
    "\n",
    "print('15) ¿Como obtener los items que no son comunes en una serie A y serie B?')\n",
    "ser1 = pd.Series([1, 2, 3, 4, 5])\n",
    "ser2 = pd.Series([4, 5, 6, 7, 8])"
   ]
  },
  {
   "cell_type": "code",
   "execution_count": 29,
   "metadata": {},
   "outputs": [
    {
     "name": "stdout",
     "output_type": "stream",
     "text": [
      "16) ¿Como obtener el numero de veces que se repite un valor en una serie?\n"
     ]
    },
    {
     "data": {
      "text/plain": [
       "e    6\n",
       "a    6\n",
       "b    5\n",
       "h    5\n",
       "c    4\n",
       "d    2\n",
       "g    1\n",
       "f    1\n",
       "dtype: int64"
      ]
     },
     "execution_count": 29,
     "metadata": {},
     "output_type": "execute_result"
    }
   ],
   "source": [
    "print('16) ¿Como obtener el numero de veces que se repite un valor en una serie?')\n",
    "ser = pd.Series(np.take(list('abcdefgh'), np.random.randint(8, size=30)))\n",
    "ser_val_repetido = pd.Series.value_counts(ser)\n",
    "ser_val_repetido"
   ]
  },
  {
   "cell_type": "code",
   "execution_count": 30,
   "metadata": {},
   "outputs": [
    {
     "name": "stdout",
     "output_type": "stream",
     "text": [
      "17) ¿Como mantener los 2 valores mas repetidos de una serie, y a los demas valores cambiarles por 0 ?\n"
     ]
    }
   ],
   "source": [
    "print('17) ¿Como mantener los 2 valores mas repetidos de una serie, y a los demas valores cambiarles por 0 ?')\n",
    "np.random.RandomState(100)\n",
    "ser = pd.Series(np.random.randint(1, 5, [12]))"
   ]
  },
  {
   "cell_type": "code",
   "execution_count": 35,
   "metadata": {},
   "outputs": [
    {
     "name": "stdout",
     "output_type": "stream",
     "text": [
      "18) ¿Como transformar una serie de un arreglo de numpy a un DataFrame con un shape definido?\n"
     ]
    },
    {
     "data": {
      "text/html": [
       "<div>\n",
       "<style scoped>\n",
       "    .dataframe tbody tr th:only-of-type {\n",
       "        vertical-align: middle;\n",
       "    }\n",
       "\n",
       "    .dataframe tbody tr th {\n",
       "        vertical-align: top;\n",
       "    }\n",
       "\n",
       "    .dataframe thead th {\n",
       "        text-align: right;\n",
       "    }\n",
       "</style>\n",
       "<table border=\"1\" class=\"dataframe\">\n",
       "  <thead>\n",
       "    <tr style=\"text-align: right;\">\n",
       "      <th></th>\n",
       "      <th>0</th>\n",
       "      <th>1</th>\n",
       "      <th>2</th>\n",
       "      <th>3</th>\n",
       "      <th>4</th>\n",
       "      <th>5</th>\n",
       "      <th>6</th>\n",
       "      <th>7</th>\n",
       "      <th>8</th>\n",
       "      <th>9</th>\n",
       "      <th>...</th>\n",
       "      <th>25</th>\n",
       "      <th>26</th>\n",
       "      <th>27</th>\n",
       "      <th>28</th>\n",
       "      <th>29</th>\n",
       "      <th>30</th>\n",
       "      <th>31</th>\n",
       "      <th>32</th>\n",
       "      <th>33</th>\n",
       "      <th>34</th>\n",
       "    </tr>\n",
       "  </thead>\n",
       "  <tbody>\n",
       "    <tr>\n",
       "      <td>0</td>\n",
       "      <td>1.0</td>\n",
       "      <td>2.0</td>\n",
       "      <td>7.0</td>\n",
       "      <td>9.0</td>\n",
       "      <td>6.0</td>\n",
       "      <td>2.0</td>\n",
       "      <td>7.0</td>\n",
       "      <td>8.0</td>\n",
       "      <td>2.0</td>\n",
       "      <td>5.0</td>\n",
       "      <td>...</td>\n",
       "      <td>8.0</td>\n",
       "      <td>5.0</td>\n",
       "      <td>7.0</td>\n",
       "      <td>9.0</td>\n",
       "      <td>2.0</td>\n",
       "      <td>8.0</td>\n",
       "      <td>5.0</td>\n",
       "      <td>7.0</td>\n",
       "      <td>3.0</td>\n",
       "      <td>7.0</td>\n",
       "    </tr>\n",
       "  </tbody>\n",
       "</table>\n",
       "<p>1 rows × 35 columns</p>\n",
       "</div>"
      ],
      "text/plain": [
       "    0    1    2    3    4    5    6    7    8    9   ...   25   26   27   28  \\\n",
       "0  1.0  2.0  7.0  9.0  6.0  2.0  7.0  8.0  2.0  5.0  ...  8.0  5.0  7.0  9.0   \n",
       "\n",
       "    29   30   31   32   33   34  \n",
       "0  2.0  8.0  5.0  7.0  3.0  7.0  \n",
       "\n",
       "[1 rows x 35 columns]"
      ]
     },
     "execution_count": 35,
     "metadata": {},
     "output_type": "execute_result"
    }
   ],
   "source": [
    "print('18) ¿Como transformar una serie de un arreglo de numpy a un DataFrame con un shape definido?')\n",
    "ser = pd.Series(np.random.randint(1, 10, 35))\n",
    "datos = pd.DataFrame()\n",
    "datos.append(ser,ignore_index=True)"
   ]
  },
  {
   "cell_type": "code",
   "execution_count": 36,
   "metadata": {},
   "outputs": [
    {
     "name": "stdout",
     "output_type": "stream",
     "text": [
      "19) ¿Obtener los valores de una serie conociendo la posicion por indice?\n"
     ]
    },
    {
     "data": {
      "text/plain": [
       "0     a\n",
       "4     e\n",
       "8     i\n",
       "14    o\n",
       "20    u\n",
       "dtype: object"
      ]
     },
     "execution_count": 36,
     "metadata": {},
     "output_type": "execute_result"
    }
   ],
   "source": [
    "print('19) ¿Obtener los valores de una serie conociendo la posicion por indice?')\n",
    "ser = pd.Series(list('abcdefghijklmnopqrstuvwxyz'))\n",
    "pos = [0, 4, 8, 14, 20]\n",
    "# a e i o u\n",
    "ser.iloc[pos]"
   ]
  },
  {
   "cell_type": "code",
   "execution_count": 37,
   "metadata": {},
   "outputs": [
    {
     "name": "stdout",
     "output_type": "stream",
     "text": [
      "20) ¿Como anadir series vertical u horizontalmente a un DataFrame?\n"
     ]
    },
    {
     "data": {
      "text/html": [
       "<div>\n",
       "<style scoped>\n",
       "    .dataframe tbody tr th:only-of-type {\n",
       "        vertical-align: middle;\n",
       "    }\n",
       "\n",
       "    .dataframe tbody tr th {\n",
       "        vertical-align: top;\n",
       "    }\n",
       "\n",
       "    .dataframe thead th {\n",
       "        text-align: right;\n",
       "    }\n",
       "</style>\n",
       "<table border=\"1\" class=\"dataframe\">\n",
       "  <thead>\n",
       "    <tr style=\"text-align: right;\">\n",
       "      <th></th>\n",
       "      <th>index</th>\n",
       "      <th>letter</th>\n",
       "    </tr>\n",
       "  </thead>\n",
       "  <tbody>\n",
       "    <tr>\n",
       "      <td>0</td>\n",
       "      <td>0</td>\n",
       "      <td>a</td>\n",
       "    </tr>\n",
       "    <tr>\n",
       "      <td>1</td>\n",
       "      <td>1</td>\n",
       "      <td>b</td>\n",
       "    </tr>\n",
       "    <tr>\n",
       "      <td>2</td>\n",
       "      <td>2</td>\n",
       "      <td>c</td>\n",
       "    </tr>\n",
       "    <tr>\n",
       "      <td>3</td>\n",
       "      <td>3</td>\n",
       "      <td>d</td>\n",
       "    </tr>\n",
       "    <tr>\n",
       "      <td>4</td>\n",
       "      <td>4</td>\n",
       "      <td>e</td>\n",
       "    </tr>\n",
       "  </tbody>\n",
       "</table>\n",
       "</div>"
      ],
      "text/plain": [
       "   index letter\n",
       "0      0      a\n",
       "1      1      b\n",
       "2      2      c\n",
       "3      3      d\n",
       "4      4      e"
      ]
     },
     "execution_count": 37,
     "metadata": {},
     "output_type": "execute_result"
    }
   ],
   "source": [
    "print('20) ¿Como anadir series vertical u horizontalmente a un DataFrame?')\n",
    "ser1 = pd.Series(range(5))\n",
    "ser2 = pd.Series(list('abcde'))\n",
    "\n",
    "# Aniadir Horizontal\n",
    "datos_horizontal = pd.DataFrame()\n",
    "datos_horizontal.append(ser1,ignore_index=True)\n",
    "\n",
    "# Aniadir Vertical\n",
    "datos_vertical = pd.DataFrame({'index': ser1,'letter': ser2})\n",
    "datos_vertical"
   ]
  },
  {
   "cell_type": "code",
   "execution_count": 67,
   "metadata": {},
   "outputs": [
    {
     "name": "stdout",
     "output_type": "stream",
     "text": [
      "21)¿Obtener la media de una serie agrupada por otra serie?\n",
      "[1.0, 2.0, 3.0, 4.0, 5.0, 6.0, 7.0, 8.0, 9.0, 10.0]\n",
      "['banana', 'banana', 'manzana', 'banana', 'banana', 'zanahoria', 'banana', 'banana', 'zanahoria', 'zanahoria']\n"
     ]
    },
    {
     "data": {
      "text/plain": [
       "FRUTAS\n",
       "banana       4.500000\n",
       "manzana      3.000000\n",
       "zanahoria    8.333333\n",
       "Name: PESOS, dtype: float64"
      ]
     },
     "execution_count": 67,
     "metadata": {},
     "output_type": "execute_result"
    }
   ],
   "source": [
    "print('21)¿Obtener la media de una serie agrupada por otra serie?')\n",
    "#groupby tambien esta disponible en series.\n",
    "\n",
    "frutas = pd.Series(np.random.choice(['manzana', 'banana', 'zanahoria'], 10))\n",
    "pesos = pd.Series(np.linspace(1, 10, 10))\n",
    "print(pesos.tolist())\n",
    "print(frutas.tolist())\n",
    "type(pesos.tolist())\n",
    "\n",
    "df = pd.DataFrame({'FRUTAS':frutas.tolist(), 'PESOS':pesos.tolist()})\n",
    "grupo =df.groupby('FRUTAS')\n",
    "grupo['PESOS'].mean()\n",
    "#> [1.0, 2.0, 3.0, 4.0, 5.0, 6.0, 7.0, 8.0, 9.0, 10.0]\n",
    "#> ['banana', 'carrot', 'apple', 'carrot', 'carrot', 'apple', 'banana', 'carrot', 'apple', 'carrot']\n",
    "\n",
    "# Los valores van a cambiar por ser random\n",
    "# apple     6.0\n",
    "# banana    4.0\n",
    "# carrot    5.8\n",
    "# dtype: float64"
   ]
  },
  {
   "cell_type": "code",
   "execution_count": 44,
   "metadata": {},
   "outputs": [
    {
     "name": "stdout",
     "output_type": "stream",
     "text": [
      "22)¿Como importar solo columnas especificas de un archivo csv?\n",
      "\n",
      " Columnas que tiene el archivo: \n",
      "\n",
      " crim,zn,indus,chas,nox,rm,age,dis,rad,tax,ptratio,b,lstat,medv\n",
      "      age  tax\n",
      "0    65.2  296\n",
      "1    78.9  242\n",
      "2    61.1  242\n",
      "3    45.8  222\n",
      "4    54.2  222\n",
      "..    ...  ...\n",
      "501  69.1  273\n",
      "502  76.7  273\n",
      "503  91.0  273\n",
      "504  89.3  273\n",
      "505  80.8  273\n",
      "\n",
      "[506 rows x 2 columns]\n"
     ]
    }
   ],
   "source": [
    "import requests\n",
    "import io\n",
    "\n",
    "print('22)¿Como importar solo columnas especificas de un archivo csv?')\n",
    "print('\\n Columnas que tiene el archivo: ')\n",
    "print('\\n crim,zn,indus,chas,nox,rm,age,dis,rad,tax,ptratio,b,lstat,medv')\n",
    "\n",
    "url=\"https://raw.githubusercontent.com/selva86/datasets/master/BostonHousing.csv\"\n",
    "s=requests.get(url).content\n",
    "c=pd.read_csv(io.StringIO(s.decode('utf-8')))\n",
    "df = pd.DataFrame(c)\n",
    "df = df[[\"age\",\"tax\"]]\n",
    "print(df)"
   ]
  },
  {
   "cell_type": "code",
   "execution_count": null,
   "metadata": {},
   "outputs": [],
   "source": []
  }
 ],
 "metadata": {
  "kernelspec": {
   "display_name": "Python 3",
   "language": "python",
   "name": "python3"
  },
  "language_info": {
   "codemirror_mode": {
    "name": "ipython",
    "version": 3
   },
   "file_extension": ".py",
   "mimetype": "text/x-python",
   "name": "python",
   "nbconvert_exporter": "python",
   "pygments_lexer": "ipython3",
   "version": "3.7.4"
  }
 },
 "nbformat": 4,
 "nbformat_minor": 2
}
